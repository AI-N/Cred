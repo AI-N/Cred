{
 "cells": [
  {
   "cell_type": "code",
   "execution_count": 14,
   "id": "8a4dd8d4-6bd5-4d24-9b65-510f06f6a111",
   "metadata": {},
   "outputs": [],
   "source": [
    "import random\n",
    "import os\n",
    "\n",
    "\n",
    "# Check if the u.data2 file already exists, and delete it if it does\n",
    "#if os.path.exists('data/u.data2'):\n",
    "#    os.remove('data/u.data2')\n",
    "\n",
    "# Load the contents of the u.data file into a list of lines\n",
    "with open('data/u.data', 'r') as f:\n",
    "    lines = f.readlines()\n",
    "\n",
    "# Choose 1000 random lines to remove\n",
    "num_lines = len(lines)\n",
    "num_removed = 20000\n",
    "indices_to_remove = random.sample(range(num_lines), num_removed)\n",
    "\n",
    "# Remove the chosen lines from the list\n",
    "lines_to_keep = []\n",
    "for i in range(num_lines):\n",
    "    if i not in indices_to_remove:\n",
    "        lines_to_keep.append(lines[i])\n",
    "\n",
    "# Save the modified lines to a new file\n",
    "with open('data/u.data2', 'w') as f:\n",
    "    for line in lines_to_keep:\n",
    "        f.write(line)\n"
   ]
  },
  {
   "cell_type": "code",
   "execution_count": null,
   "id": "fce36839-0c3d-47ae-9e1d-481830528621",
   "metadata": {},
   "outputs": [],
   "source": []
  }
 ],
 "metadata": {
  "kernelspec": {
   "display_name": "Python 3 (ipykernel)",
   "language": "python",
   "name": "python3"
  },
  "language_info": {
   "codemirror_mode": {
    "name": "ipython",
    "version": 3
   },
   "file_extension": ".py",
   "mimetype": "text/x-python",
   "name": "python",
   "nbconvert_exporter": "python",
   "pygments_lexer": "ipython3",
   "version": "3.9.13"
  }
 },
 "nbformat": 4,
 "nbformat_minor": 5
}
