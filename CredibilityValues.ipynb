{
 "cells": [
  {
   "cell_type": "code",
   "execution_count": 152,
   "id": "fddee46c-f440-44c4-8bc4-de5da11e5fc2",
   "metadata": {},
   "outputs": [
    {
     "name": "stdout",
     "output_type": "stream",
     "text": [
      "User length: 100000\n",
      "Num of Users:  1  to  943 \n",
      "Num of Movies:  1  to  1682 \n",
      "Range of ratings given by users:  1.0  to  5.0\n",
      "Variety of ratings given by users are:  [1. 2. 3. 4. 5.]\n"
     ]
    }
   ],
   "source": [
    "import numpy as np\n",
    "import matplotlib.pyplot as plt\n",
    "import pandas as pd\n",
    "\n",
    "import math\n",
    "import csv\n",
    "from pandas import DataFrame\n",
    "\n",
    "##### you can find the dataset here: https://grouplens.org/datasets/movielens/100k/\n",
    "data=np.genfromtxt('data/u.data',delimiter='\\t')\n",
    "\n",
    "uID=data[:,][:,0]     # first column\n",
    "mID=data[:,][:,1]     # second column\n",
    "rating=data[:,][:,2]  #third column\n",
    "time=data[:,][:,3]\n",
    "\n",
    "### number of rows(users), columns(movies) and variety of ratings given by users\n",
    "MIN_uID=int(min(uID))\n",
    "MAX_uID=int(max(uID))\n",
    "\n",
    "MIN_mID=int(min(mID))\n",
    "MAX_mID=int(max(mID))\n",
    "\n",
    "MIN_rating=min(rating)\n",
    "MAX_rating=max(rating)\n",
    "\n",
    "print('User length:',len(uID))\n",
    "\n",
    "print ('Num of Users: ',MIN_uID,' to ',MAX_uID, '\\nNum of Movies: ',MIN_mID,' to ',MAX_mID,'\\nRange of ratings given by users: ',MIN_rating, ' to ',MAX_rating)\n",
    "rating_Variety=np.unique(rating)\n",
    "print ('Variety of ratings given by users are: ', rating_Variety)"
   ]
  },
  {
   "cell_type": "code",
   "execution_count": 153,
   "id": "ffa903bf-068b-40ca-b8cd-434772d465c0",
   "metadata": {},
   "outputs": [
    {
     "name": "stdout",
     "output_type": "stream",
     "text": [
      "\n",
      "A head of array of initial matrix with columns:[uID,mID,rating]:\n",
      "        uID  mID  rating         time\n",
      "32236  1.0  1.0     5.0  874965758.0\n",
      "23171  1.0  2.0     3.0  876893171.0\n",
      "83307  1.0  3.0     4.0  878542960.0\n",
      "62631  1.0  4.0     3.0  876893119.0\n",
      "47638  1.0  5.0     3.0  889751712.0\n",
      "\n",
      "---for example:---\n",
      "Init_Matrix[1][2] is:  3.0 \n",
      "   means:the data in row 2 column 3\n",
      "\n",
      "*** the Rating_Matrix len:***\n",
      " 943\n",
      "\n",
      "*** the Rating_Matrix is:***\n",
      " [[5. 3. 4. ... 0. 0. 0.]\n",
      " [4. 0. 0. ... 0. 0. 0.]\n",
      " [0. 0. 0. ... 0. 0. 0.]\n",
      " ...\n",
      " [5. 0. 0. ... 0. 0. 0.]\n",
      " [0. 0. 0. ... 0. 0. 0.]\n",
      " [0. 5. 0. ... 0. 0. 0.]]\n"
     ]
    },
    {
     "data": {
      "text/plain": [
       "2"
      ]
     },
     "execution_count": 153,
     "metadata": {},
     "output_type": "execute_result"
    }
   ],
   "source": [
    "##### Raing Matrix\n",
    "Init_Mat=pd.DataFrame(data=data,index=range(len(data)),columns=['uID','mID','rating','time'])  ##making a dataFrame with columns:['uID','mID','rating']\n",
    "Init_Mat=Init_Mat.sort_values(by=['uID','mID'])\n",
    "Init_Matrix=np.array(Init_Mat) #making array\n",
    "print ('\\nA head of array of initial matrix with columns:[uID,mID,rating]:\\n',Init_Mat.head())\n",
    "print('\\n---for example:---\\nInit_Matrix[1][2] is: ',Init_Matrix[1][2],'\\n   means:the data in row 2 column 3')  #data in row 2 column 3\n",
    "Rating_Matrix=np.zeros((len(np.unique(uID)),len(np.unique(mID))),float)\n",
    "\n",
    "i=iter(Init_Matrix)\n",
    "\n",
    "for j in range(len(Init_Matrix)):\n",
    "    n=next(i)\n",
    "    x=int(n[0])\n",
    "    y=int(n[1])\n",
    "    Rating_Matrix[x-1][y-1]=n[2]\n",
    "       \n",
    "\n",
    "print('\\n*** the Rating_Matrix len:***\\n',len(Rating_Matrix))        \n",
    "print('\\n*** the Rating_Matrix is:***\\n',Rating_Matrix)\n",
    "2"
   ]
  },
  {
   "cell_type": "code",
   "execution_count": 154,
   "id": "d8db154f-a09f-49be-96ed-1a717bf0cdd7",
   "metadata": {},
   "outputs": [
    {
     "name": "stderr",
     "output_type": "stream",
     "text": [
      "C:\\Users\\User\\AppData\\Local\\Temp\\ipykernel_16596\\457017524.py:22: RuntimeWarning: invalid value encountered in power\n",
      "  return (beta / alpha) * ((x - center) / alpha)**(beta - 1) * np.exp(-((x - center) / alpha)**beta)\n"
     ]
    },
    {
     "ename": "ValueError",
     "evalue": "array must not contain infs or NaNs",
     "output_type": "error",
     "traceback": [
      "\u001b[1;31m---------------------------------------------------------------------------\u001b[0m",
      "\u001b[1;31mValueError\u001b[0m                                Traceback (most recent call last)",
      "\u001b[1;32m~\\AppData\\Local\\Temp\\ipykernel_16596\\457017524.py\u001b[0m in \u001b[0;36m<module>\u001b[1;34m\u001b[0m\n\u001b[0;32m     29\u001b[0m \u001b[0mbounds\u001b[0m \u001b[1;33m=\u001b[0m \u001b[1;33m(\u001b[0m\u001b[1;33m[\u001b[0m\u001b[1;36m0\u001b[0m\u001b[1;33m,\u001b[0m \u001b[1;33m-\u001b[0m\u001b[0mnp\u001b[0m\u001b[1;33m.\u001b[0m\u001b[0minf\u001b[0m\u001b[1;33m,\u001b[0m \u001b[1;36m0\u001b[0m\u001b[1;33m]\u001b[0m\u001b[1;33m,\u001b[0m \u001b[0mnp\u001b[0m\u001b[1;33m.\u001b[0m\u001b[0minf\u001b[0m\u001b[1;33m)\u001b[0m\u001b[1;33m\u001b[0m\u001b[1;33m\u001b[0m\u001b[0m\n\u001b[0;32m     30\u001b[0m \u001b[0mmaxfev\u001b[0m \u001b[1;33m=\u001b[0m \u001b[1;36m10000\u001b[0m\u001b[1;33m\u001b[0m\u001b[1;33m\u001b[0m\u001b[0m\n\u001b[1;32m---> 31\u001b[1;33m \u001b[0mparams\u001b[0m\u001b[1;33m,\u001b[0m \u001b[0mcov\u001b[0m \u001b[1;33m=\u001b[0m \u001b[0mcurve_fit\u001b[0m\u001b[1;33m(\u001b[0m\u001b[0mweibull_pdf\u001b[0m\u001b[1;33m,\u001b[0m \u001b[0mx\u001b[0m\u001b[1;33m,\u001b[0m \u001b[0mdata\u001b[0m\u001b[1;33m,\u001b[0m \u001b[0mp0\u001b[0m\u001b[1;33m=\u001b[0m\u001b[0mp0\u001b[0m\u001b[1;33m,\u001b[0m \u001b[0mbounds\u001b[0m\u001b[1;33m=\u001b[0m\u001b[0mbounds\u001b[0m\u001b[1;33m,\u001b[0m \u001b[0mmaxfev\u001b[0m\u001b[1;33m=\u001b[0m\u001b[0mmaxfev\u001b[0m\u001b[1;33m)\u001b[0m\u001b[1;33m\u001b[0m\u001b[1;33m\u001b[0m\u001b[0m\n\u001b[0m\u001b[0;32m     32\u001b[0m \u001b[1;33m\u001b[0m\u001b[0m\n\u001b[0;32m     33\u001b[0m \u001b[1;31m# Print the estimated parameters\u001b[0m\u001b[1;33m\u001b[0m\u001b[1;33m\u001b[0m\u001b[0m\n",
      "\u001b[1;32m~\\anaconda3\\lib\\site-packages\\scipy\\optimize\\_minpack_py.py\u001b[0m in \u001b[0;36mcurve_fit\u001b[1;34m(f, xdata, ydata, p0, sigma, absolute_sigma, check_finite, bounds, method, jac, full_output, **kwargs)\u001b[0m\n\u001b[0;32m    843\u001b[0m             \u001b[0mkwargs\u001b[0m\u001b[1;33m[\u001b[0m\u001b[1;34m'max_nfev'\u001b[0m\u001b[1;33m]\u001b[0m \u001b[1;33m=\u001b[0m \u001b[0mkwargs\u001b[0m\u001b[1;33m.\u001b[0m\u001b[0mpop\u001b[0m\u001b[1;33m(\u001b[0m\u001b[1;34m'maxfev'\u001b[0m\u001b[1;33m,\u001b[0m \u001b[1;32mNone\u001b[0m\u001b[1;33m)\u001b[0m\u001b[1;33m\u001b[0m\u001b[1;33m\u001b[0m\u001b[0m\n\u001b[0;32m    844\u001b[0m \u001b[1;33m\u001b[0m\u001b[0m\n\u001b[1;32m--> 845\u001b[1;33m         res = least_squares(func, p0, jac=jac, bounds=bounds, method=method,\n\u001b[0m\u001b[0;32m    846\u001b[0m                             **kwargs)\n\u001b[0;32m    847\u001b[0m \u001b[1;33m\u001b[0m\u001b[0m\n",
      "\u001b[1;32m~\\anaconda3\\lib\\site-packages\\scipy\\optimize\\_lsq\\least_squares.py\u001b[0m in \u001b[0;36mleast_squares\u001b[1;34m(fun, x0, jac, bounds, method, ftol, xtol, gtol, x_scale, loss, f_scale, diff_step, tr_solver, tr_options, jac_sparsity, max_nfev, verbose, args, kwargs)\u001b[0m\n\u001b[0;32m    926\u001b[0m \u001b[1;33m\u001b[0m\u001b[0m\n\u001b[0;32m    927\u001b[0m     \u001b[1;32melif\u001b[0m \u001b[0mmethod\u001b[0m \u001b[1;33m==\u001b[0m \u001b[1;34m'trf'\u001b[0m\u001b[1;33m:\u001b[0m\u001b[1;33m\u001b[0m\u001b[1;33m\u001b[0m\u001b[0m\n\u001b[1;32m--> 928\u001b[1;33m         result = trf(fun_wrapped, jac_wrapped, x0, f0, J0, lb, ub, ftol, xtol,\n\u001b[0m\u001b[0;32m    929\u001b[0m                      \u001b[0mgtol\u001b[0m\u001b[1;33m,\u001b[0m \u001b[0mmax_nfev\u001b[0m\u001b[1;33m,\u001b[0m \u001b[0mx_scale\u001b[0m\u001b[1;33m,\u001b[0m \u001b[0mloss_function\u001b[0m\u001b[1;33m,\u001b[0m \u001b[0mtr_solver\u001b[0m\u001b[1;33m,\u001b[0m\u001b[1;33m\u001b[0m\u001b[1;33m\u001b[0m\u001b[0m\n\u001b[0;32m    930\u001b[0m                      tr_options.copy(), verbose)\n",
      "\u001b[1;32m~\\anaconda3\\lib\\site-packages\\scipy\\optimize\\_lsq\\trf.py\u001b[0m in \u001b[0;36mtrf\u001b[1;34m(fun, jac, x0, f0, J0, lb, ub, ftol, xtol, gtol, max_nfev, x_scale, loss_function, tr_solver, tr_options, verbose)\u001b[0m\n\u001b[0;32m    121\u001b[0m             loss_function, tr_solver, tr_options, verbose)\n\u001b[0;32m    122\u001b[0m     \u001b[1;32melse\u001b[0m\u001b[1;33m:\u001b[0m\u001b[1;33m\u001b[0m\u001b[1;33m\u001b[0m\u001b[0m\n\u001b[1;32m--> 123\u001b[1;33m         return trf_bounds(\n\u001b[0m\u001b[0;32m    124\u001b[0m             \u001b[0mfun\u001b[0m\u001b[1;33m,\u001b[0m \u001b[0mjac\u001b[0m\u001b[1;33m,\u001b[0m \u001b[0mx0\u001b[0m\u001b[1;33m,\u001b[0m \u001b[0mf0\u001b[0m\u001b[1;33m,\u001b[0m \u001b[0mJ0\u001b[0m\u001b[1;33m,\u001b[0m \u001b[0mlb\u001b[0m\u001b[1;33m,\u001b[0m \u001b[0mub\u001b[0m\u001b[1;33m,\u001b[0m \u001b[0mftol\u001b[0m\u001b[1;33m,\u001b[0m \u001b[0mxtol\u001b[0m\u001b[1;33m,\u001b[0m \u001b[0mgtol\u001b[0m\u001b[1;33m,\u001b[0m \u001b[0mmax_nfev\u001b[0m\u001b[1;33m,\u001b[0m \u001b[0mx_scale\u001b[0m\u001b[1;33m,\u001b[0m\u001b[1;33m\u001b[0m\u001b[1;33m\u001b[0m\u001b[0m\n\u001b[0;32m    125\u001b[0m             loss_function, tr_solver, tr_options, verbose)\n",
      "\u001b[1;32m~\\anaconda3\\lib\\site-packages\\scipy\\optimize\\_lsq\\trf.py\u001b[0m in \u001b[0;36mtrf_bounds\u001b[1;34m(fun, jac, x0, f0, J0, lb, ub, ftol, xtol, gtol, max_nfev, x_scale, loss_function, tr_solver, tr_options, verbose)\u001b[0m\n\u001b[0;32m    299\u001b[0m             \u001b[0mJ_h\u001b[0m \u001b[1;33m=\u001b[0m \u001b[0mJ_augmented\u001b[0m\u001b[1;33m[\u001b[0m\u001b[1;33m:\u001b[0m\u001b[0mm\u001b[0m\u001b[1;33m]\u001b[0m  \u001b[1;31m# Memory view.\u001b[0m\u001b[1;33m\u001b[0m\u001b[1;33m\u001b[0m\u001b[0m\n\u001b[0;32m    300\u001b[0m             \u001b[0mJ_augmented\u001b[0m\u001b[1;33m[\u001b[0m\u001b[0mm\u001b[0m\u001b[1;33m:\u001b[0m\u001b[1;33m]\u001b[0m \u001b[1;33m=\u001b[0m \u001b[0mnp\u001b[0m\u001b[1;33m.\u001b[0m\u001b[0mdiag\u001b[0m\u001b[1;33m(\u001b[0m\u001b[0mdiag_h\u001b[0m\u001b[1;33m**\u001b[0m\u001b[1;36m0.5\u001b[0m\u001b[1;33m)\u001b[0m\u001b[1;33m\u001b[0m\u001b[1;33m\u001b[0m\u001b[0m\n\u001b[1;32m--> 301\u001b[1;33m             \u001b[0mU\u001b[0m\u001b[1;33m,\u001b[0m \u001b[0ms\u001b[0m\u001b[1;33m,\u001b[0m \u001b[0mV\u001b[0m \u001b[1;33m=\u001b[0m \u001b[0msvd\u001b[0m\u001b[1;33m(\u001b[0m\u001b[0mJ_augmented\u001b[0m\u001b[1;33m,\u001b[0m \u001b[0mfull_matrices\u001b[0m\u001b[1;33m=\u001b[0m\u001b[1;32mFalse\u001b[0m\u001b[1;33m)\u001b[0m\u001b[1;33m\u001b[0m\u001b[1;33m\u001b[0m\u001b[0m\n\u001b[0m\u001b[0;32m    302\u001b[0m             \u001b[0mV\u001b[0m \u001b[1;33m=\u001b[0m \u001b[0mV\u001b[0m\u001b[1;33m.\u001b[0m\u001b[0mT\u001b[0m\u001b[1;33m\u001b[0m\u001b[1;33m\u001b[0m\u001b[0m\n\u001b[0;32m    303\u001b[0m             \u001b[0muf\u001b[0m \u001b[1;33m=\u001b[0m \u001b[0mU\u001b[0m\u001b[1;33m.\u001b[0m\u001b[0mT\u001b[0m\u001b[1;33m.\u001b[0m\u001b[0mdot\u001b[0m\u001b[1;33m(\u001b[0m\u001b[0mf_augmented\u001b[0m\u001b[1;33m)\u001b[0m\u001b[1;33m\u001b[0m\u001b[1;33m\u001b[0m\u001b[0m\n",
      "\u001b[1;32m~\\anaconda3\\lib\\site-packages\\scipy\\linalg\\_decomp_svd.py\u001b[0m in \u001b[0;36msvd\u001b[1;34m(a, full_matrices, compute_uv, overwrite_a, check_finite, lapack_driver)\u001b[0m\n\u001b[0;32m    106\u001b[0m \u001b[1;33m\u001b[0m\u001b[0m\n\u001b[0;32m    107\u001b[0m     \"\"\"\n\u001b[1;32m--> 108\u001b[1;33m     \u001b[0ma1\u001b[0m \u001b[1;33m=\u001b[0m \u001b[0m_asarray_validated\u001b[0m\u001b[1;33m(\u001b[0m\u001b[0ma\u001b[0m\u001b[1;33m,\u001b[0m \u001b[0mcheck_finite\u001b[0m\u001b[1;33m=\u001b[0m\u001b[0mcheck_finite\u001b[0m\u001b[1;33m)\u001b[0m\u001b[1;33m\u001b[0m\u001b[1;33m\u001b[0m\u001b[0m\n\u001b[0m\u001b[0;32m    109\u001b[0m     \u001b[1;32mif\u001b[0m \u001b[0mlen\u001b[0m\u001b[1;33m(\u001b[0m\u001b[0ma1\u001b[0m\u001b[1;33m.\u001b[0m\u001b[0mshape\u001b[0m\u001b[1;33m)\u001b[0m \u001b[1;33m!=\u001b[0m \u001b[1;36m2\u001b[0m\u001b[1;33m:\u001b[0m\u001b[1;33m\u001b[0m\u001b[1;33m\u001b[0m\u001b[0m\n\u001b[0;32m    110\u001b[0m         \u001b[1;32mraise\u001b[0m \u001b[0mValueError\u001b[0m\u001b[1;33m(\u001b[0m\u001b[1;34m'expected matrix'\u001b[0m\u001b[1;33m)\u001b[0m\u001b[1;33m\u001b[0m\u001b[1;33m\u001b[0m\u001b[0m\n",
      "\u001b[1;32m~\\anaconda3\\lib\\site-packages\\scipy\\_lib\\_util.py\u001b[0m in \u001b[0;36m_asarray_validated\u001b[1;34m(a, check_finite, sparse_ok, objects_ok, mask_ok, as_inexact)\u001b[0m\n\u001b[0;32m    285\u001b[0m             \u001b[1;32mraise\u001b[0m \u001b[0mValueError\u001b[0m\u001b[1;33m(\u001b[0m\u001b[1;34m'masked arrays are not supported'\u001b[0m\u001b[1;33m)\u001b[0m\u001b[1;33m\u001b[0m\u001b[1;33m\u001b[0m\u001b[0m\n\u001b[0;32m    286\u001b[0m     \u001b[0mtoarray\u001b[0m \u001b[1;33m=\u001b[0m \u001b[0mnp\u001b[0m\u001b[1;33m.\u001b[0m\u001b[0masarray_chkfinite\u001b[0m \u001b[1;32mif\u001b[0m \u001b[0mcheck_finite\u001b[0m \u001b[1;32melse\u001b[0m \u001b[0mnp\u001b[0m\u001b[1;33m.\u001b[0m\u001b[0masarray\u001b[0m\u001b[1;33m\u001b[0m\u001b[1;33m\u001b[0m\u001b[0m\n\u001b[1;32m--> 287\u001b[1;33m     \u001b[0ma\u001b[0m \u001b[1;33m=\u001b[0m \u001b[0mtoarray\u001b[0m\u001b[1;33m(\u001b[0m\u001b[0ma\u001b[0m\u001b[1;33m)\u001b[0m\u001b[1;33m\u001b[0m\u001b[1;33m\u001b[0m\u001b[0m\n\u001b[0m\u001b[0;32m    288\u001b[0m     \u001b[1;32mif\u001b[0m \u001b[1;32mnot\u001b[0m \u001b[0mobjects_ok\u001b[0m\u001b[1;33m:\u001b[0m\u001b[1;33m\u001b[0m\u001b[1;33m\u001b[0m\u001b[0m\n\u001b[0;32m    289\u001b[0m         \u001b[1;32mif\u001b[0m \u001b[0ma\u001b[0m\u001b[1;33m.\u001b[0m\u001b[0mdtype\u001b[0m \u001b[1;32mis\u001b[0m \u001b[0mnp\u001b[0m\u001b[1;33m.\u001b[0m\u001b[0mdtype\u001b[0m\u001b[1;33m(\u001b[0m\u001b[1;34m'O'\u001b[0m\u001b[1;33m)\u001b[0m\u001b[1;33m:\u001b[0m\u001b[1;33m\u001b[0m\u001b[1;33m\u001b[0m\u001b[0m\n",
      "\u001b[1;32m~\\anaconda3\\lib\\site-packages\\numpy\\lib\\function_base.py\u001b[0m in \u001b[0;36masarray_chkfinite\u001b[1;34m(a, dtype, order)\u001b[0m\n\u001b[0;32m    486\u001b[0m     \u001b[0ma\u001b[0m \u001b[1;33m=\u001b[0m \u001b[0masarray\u001b[0m\u001b[1;33m(\u001b[0m\u001b[0ma\u001b[0m\u001b[1;33m,\u001b[0m \u001b[0mdtype\u001b[0m\u001b[1;33m=\u001b[0m\u001b[0mdtype\u001b[0m\u001b[1;33m,\u001b[0m \u001b[0morder\u001b[0m\u001b[1;33m=\u001b[0m\u001b[0morder\u001b[0m\u001b[1;33m)\u001b[0m\u001b[1;33m\u001b[0m\u001b[1;33m\u001b[0m\u001b[0m\n\u001b[0;32m    487\u001b[0m     \u001b[1;32mif\u001b[0m \u001b[0ma\u001b[0m\u001b[1;33m.\u001b[0m\u001b[0mdtype\u001b[0m\u001b[1;33m.\u001b[0m\u001b[0mchar\u001b[0m \u001b[1;32min\u001b[0m \u001b[0mtypecodes\u001b[0m\u001b[1;33m[\u001b[0m\u001b[1;34m'AllFloat'\u001b[0m\u001b[1;33m]\u001b[0m \u001b[1;32mand\u001b[0m \u001b[1;32mnot\u001b[0m \u001b[0mnp\u001b[0m\u001b[1;33m.\u001b[0m\u001b[0misfinite\u001b[0m\u001b[1;33m(\u001b[0m\u001b[0ma\u001b[0m\u001b[1;33m)\u001b[0m\u001b[1;33m.\u001b[0m\u001b[0mall\u001b[0m\u001b[1;33m(\u001b[0m\u001b[1;33m)\u001b[0m\u001b[1;33m:\u001b[0m\u001b[1;33m\u001b[0m\u001b[1;33m\u001b[0m\u001b[0m\n\u001b[1;32m--> 488\u001b[1;33m         raise ValueError(\n\u001b[0m\u001b[0;32m    489\u001b[0m             \"array must not contain infs or NaNs\")\n\u001b[0;32m    490\u001b[0m     \u001b[1;32mreturn\u001b[0m \u001b[0ma\u001b[0m\u001b[1;33m\u001b[0m\u001b[1;33m\u001b[0m\u001b[0m\n",
      "\u001b[1;31mValueError\u001b[0m: array must not contain infs or NaNs"
     ]
    }
   ],
   "source": [
    "import numpy as np\n",
    "from scipy.stats import weibull_min\n",
    "from scipy.optimize import curve_fit\n",
    "import matplotlib.pyplot as plt\n",
    "\n",
    "\n",
    "# Flatten the matrix into a 1D array of ratings, excluding zeros\n",
    "data = Rating_Matrix.flatten()\n",
    "data = data[data != 0]\n",
    "\n",
    "# Filter out nan and inf values from the data array\n",
    "data = data[np.isfinite(data)]\n",
    "\n",
    "# Filter out any rating values that are greater than 5\n",
    "data = data[data <= 5]\n",
    "\n",
    "# Sort the data in ascending order\n",
    "data = np.sort(data)\n",
    "\n",
    "# Define the function to fit a Weibull distribution\n",
    "def weibull_pdf(x, alpha, beta, center):\n",
    "    return (beta / alpha) * ((x - center) / alpha)**(beta - 1) * np.exp(-((x - center) / alpha)**beta)\n",
    "\n",
    "# Create the x values to be used for fitting\n",
    "x = np.linspace(1, 5, len(data))\n",
    "\n",
    "# Fit a Weibull distribution to the data\n",
    "p0 = [1, 1, 3]\n",
    "bounds = ([0, -np.inf, 0], np.inf)\n",
    "maxfev = 10000\n",
    "params, cov = curve_fit(weibull_pdf, x, data, p0=p0, bounds=bounds, maxfev=maxfev)\n",
    "\n",
    "# Print the estimated parameters\n",
    "print(f\"alpha = {params[0]}, beta = {params[1]}, center = {params[2]}\")\n",
    "\n",
    "# Create a histogram of the ratings\n",
    "fig, ax = plt.subplots()\n",
    "ax.hist(data, bins=5, range=(1, 5), align=\"left\", edgecolor=\"black\", density=True)\n",
    "ax.set_xticks([1, 2, 3, 4, 5])\n",
    "ax.set_xlabel(\"Rating\")\n",
    "ax.set_ylabel(\"Frequency\")\n",
    "ax.set_title(\"Movie Rating Distribution\")\n",
    "\n",
    "# Plot the fitted Weibull distribution\n",
    "y = weibull_pdf(x, *params)\n",
    "ax.plot(x, y, 'r--', label='Fitted Weibull distribution')\n",
    "\n",
    "# Add a legend and show the plot\n",
    "ax.legend()\n",
    "fig.tight_layout()\n",
    "plt.show()\n",
    "\n"
   ]
  },
  {
   "cell_type": "code",
   "execution_count": 145,
   "id": "0f68ed29-8033-4112-9fa8-59442f9f19a8",
   "metadata": {},
   "outputs": [
    {
     "name": "stdout",
     "output_type": "stream",
     "text": [
      "Data: [1.96000000e+02 2.42000000e+02 3.00000000e+00 ... 2.03000000e+02\n",
      " 3.00000000e+00 8.79959583e+08]\n",
      "Sorted data: [1.00000000e+00 1.00000000e+00 1.00000000e+00 ... 8.93286638e+08\n",
      " 8.93286638e+08 8.93286638e+08]\n"
     ]
    }
   ],
   "source": [
    "print(\"Data:\", mdata)\n",
    "print(\"Sorted data:\", np.sort(mdata))"
   ]
  },
  {
   "cell_type": "code",
   "execution_count": 55,
   "id": "e45fceb1-36b0-4313-88e5-c1b523459d48",
   "metadata": {},
   "outputs": [
    {
     "name": "stdout",
     "output_type": "stream",
     "text": [
      "Stored 'Cr' (list)\n"
     ]
    }
   ],
   "source": [
    "%store Cr"
   ]
  },
  {
   "cell_type": "code",
   "execution_count": 56,
   "id": "e5cc2c24-a58e-466c-aba4-792ccae1bdcc",
   "metadata": {},
   "outputs": [
    {
     "name": "stdout",
     "output_type": "stream",
     "text": [
      "0.8816891585828713 0.9188709434407597\n"
     ]
    }
   ],
   "source": [
    "print(Cr[0], Cr[1])"
   ]
  },
  {
   "cell_type": "code",
   "execution_count": null,
   "id": "a325596e-800f-482f-a704-8887eb996ce0",
   "metadata": {},
   "outputs": [],
   "source": [
    "\n"
   ]
  },
  {
   "cell_type": "code",
   "execution_count": null,
   "id": "69750916-d1ae-4933-8f8f-4406ef30d77b",
   "metadata": {},
   "outputs": [],
   "source": [
    "\n"
   ]
  },
  {
   "cell_type": "code",
   "execution_count": 112,
   "id": "58de803c-e55d-413e-9bb5-fe0fdcb075df",
   "metadata": {},
   "outputs": [
    {
     "name": "stdout",
     "output_type": "stream",
     "text": [
      "Stored 'Cr' (list)\n"
     ]
    }
   ],
   "source": [
    "import numpy as np\n",
    "from scipy.stats import weibull_min, ks_2samp\n",
    "\n",
    "\n",
    "# Generate the global Weibull distribution\n",
    "center = 4.1 # 3.97 good\n",
    "global_dist = weibull_min.rvs(2, loc=center, size=10000)\n",
    "\n",
    "# Calculate the Weibull distribution parameters for each user's rating data\n",
    "'''\n",
    "alpha = []\n",
    "beta = []\n",
    "for i in range(len(Rating_Matrix)):\n",
    "    x = Rating_Matrix[i][np.nonzero(Rating_Matrix[i])]\n",
    "    if len(x) > 0:\n",
    "        alpha_i, beta_i, loc_i = weibull_min.fit(x)\n",
    "        alpha.append(alpha_i)\n",
    "        beta.append(beta_i)\n",
    "    else:\n",
    "        alpha.append(np.nan)\n",
    "        beta.append(np.nan)\n",
    "'''\n",
    "\n",
    "# Calculate the Kolmogorov-Smirnov statistic and p-value for each user's rating distribution\n",
    "Cr = []\n",
    "for i in range(len(Rating_Matrix)):\n",
    "    x = Rating_Matrix[i][np.nonzero(Rating_Matrix[i])]\n",
    "    ks_stat, p_value = ks_2samp(x, global_dist)\n",
    "    Cr.append(ks_stat)\n",
    "\n",
    "# Print the resulting distribution parameters and credibility values\n",
    "#for i in range(len(Rating_Matrix)):\n",
    "#    print(f\"User {i}: alpha = {alpha[i]}, beta = {beta[i]}, Cr = {Cr[i]}\")\n",
    "%store Cr\n"
   ]
  },
  {
   "cell_type": "code",
   "execution_count": 110,
   "id": "7c0cac9d-3c12-4a70-ae64-8abf9c5ce706",
   "metadata": {},
   "outputs": [],
   "source": [
    "import numpy as np\n",
    "from scipy.stats import weibull_min, ks_2samp\n",
    "\n",
    "# generate the global Weibull distribution\n",
    "center = 3.8 #3.97\n",
    "global_dist = weibull_min.rvs(2, loc=center, size=10000)\n",
    "\n",
    "# calculate the Kolmogorov-Smirnov statistic and p-value for each user's rating distribution\n",
    "Cr = []\n",
    "for i in range(len(Rating_Matrix)):\n",
    "    a = Rating_Matrix[i]\n",
    "    x = a[np.nonzero(a)]\n",
    "    ks_stat, p_value = ks_2samp(x, global_dist)\n",
    "    Cr.append(ks_stat)\n",
    "\n",
    "# print the credibility values\n",
    "#print(Cr)\n"
   ]
  },
  {
   "cell_type": "code",
   "execution_count": 20,
   "id": "2c551949-0582-4ac2-8fe9-da0999c9dadf",
   "metadata": {},
   "outputs": [
    {
     "data": {
      "image/png": "[encoded data removed]",
      "text/plain": [
       "<Figure size 640x480 with 1 Axes>"
      ]
     },
     "metadata": {},
     "output_type": "display_data"
    },
    {
     "data": {
      "image/png": "[encoded data removed]",
      "text/plain": [
       "<Figure size 640x480 with 1 Axes>"
      ]
     },
     "metadata": {},
     "output_type": "display_data"
    }
   ],
   "source": [
    "import numpy as np\n",
    "import matplotlib.pyplot as plt\n",
    "\n",
    "# generate a series of random numbers\n",
    "series = Cr #np.random.normal(0, 1, size=1000)\n",
    "\n",
    "# plot a histogram of the series\n",
    "fig, ax = plt.subplots()\n",
    "ax.hist(series, bins=50)\n",
    "ax.set_xlabel('Value')\n",
    "ax.set_ylabel('Count')\n",
    "plt.show()\n",
    "\n",
    "series = np.array(series)\n",
    "# calculate the cumulative distribution function\n",
    "cdf = np.cumsum(np.sort(series)) / series.sum()\n",
    "\n",
    "# plot the cumulative distribution function\n",
    "fig, ax = plt.subplots()\n",
    "ax.plot(np.sort(series), cdf)\n",
    "ax.set_xlabel('Value')\n",
    "ax.set_ylabel('Cumulative Probability')\n",
    "plt.show()"
   ]
  },
  {
   "cell_type": "code",
   "execution_count": 107,
   "id": "d10f6bd3-63fd-4d18-88a7-c846095939cd",
   "metadata": {},
   "outputs": [
    {
     "name": "stdout",
     "output_type": "stream",
     "text": [
      "Stored 'Cr' (list)\n"
     ]
    }
   ],
   "source": [
    "%store Cr\n"
   ]
  },
  {
   "cell_type": "code",
   "execution_count": null,
   "id": "80abd5a2-63de-437f-a982-1f773a1639f4",
   "metadata": {},
   "outputs": [],
   "source": [
    "\n",
    "\n"
   ]
  },
  {
   "cell_type": "code",
   "execution_count": 11,
   "id": "f1a09ea4-cae7-4486-8722-1884021183f0",
   "metadata": {},
   "outputs": [
    {
     "data": {
      "image/png": "[encoded data removed]",
      "text/plain": [
       "<Figure size 640x480 with 1 Axes>"
      ]
     },
     "metadata": {},
     "output_type": "display_data"
    }
   ],
   "source": [
    "import numpy as np\n",
    "from scipy.stats import weibull_min\n",
    "import matplotlib.pyplot as plt\n",
    "\n",
    "# assume Rating_Matrix is a numpy array containing user ratings, with each row representing a user and each column representing an item\n",
    "# plot the Weibull distribution for item 0\n",
    "x = Rating_Matrix[:, 15]\n",
    "x = x[np.nonzero(x)]\n",
    "if len(x) > 0:\n",
    "    alpha, beta, loc = weibull_min.fit(x)\n",
    "    plt.hist(x, bins=20, density=True, alpha=0.5, label='data')\n",
    "    x_range = np.linspace(min(x), max(x), 100)\n",
    "    plt.plot(x_range, weibull_min.pdf(x_range, alpha, loc, beta), label='Weibull fit')\n",
    "    plt.legend()\n",
    "    plt.show()\n",
    "else:\n",
    "    print(\"No ratings for item 0.\")\n",
    "\n"
   ]
  },
  {
   "cell_type": "code",
   "execution_count": null,
   "id": "fc1cc57f-4f16-4550-b4a2-230aa3a6d2b2",
   "metadata": {},
   "outputs": [],
   "source": [
    "\n"
   ]
  },
  {
   "cell_type": "code",
   "execution_count": null,
   "id": "2dfa5884-b602-4f7d-8314-4587606b2599",
   "metadata": {},
   "outputs": [],
   "source": [
    "\n",
    "\n"
   ]
  },
  {
   "cell_type": "code",
   "execution_count": null,
   "id": "09b7bcf7-50d7-49c1-9a89-7af36dbf54b9",
   "metadata": {},
   "outputs": [],
   "source": []
  },
  {
   "cell_type": "code",
   "execution_count": null,
   "id": "6288315c-0b2b-4127-b95a-518a8c75900d",
   "metadata": {},
   "outputs": [],
   "source": []
  }
 ],
 "metadata": {
  "kernelspec": {
   "display_name": "Python 3 (ipykernel)",
   "language": "python",
   "name": "python3"
  },
  "language_info": {
   "codemirror_mode": {
    "name": "ipython",
    "version": 3
   },
   "file_extension": ".py",
   "mimetype": "text/x-python",
   "name": "python",
   "nbconvert_exporter": "python",
   "pygments_lexer": "ipython3",
   "version": "3.9.13"
  }
 },
 "nbformat": 4,
 "nbformat_minor": 5
}
