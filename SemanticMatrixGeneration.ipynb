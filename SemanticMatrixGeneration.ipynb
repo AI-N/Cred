{
 "cells": [
  {
   "cell_type": "code",
   "execution_count": 4,
   "id": "0cc7397e-495f-4756-8a94-bceeceaf2b17",
   "metadata": {},
   "outputs": [
    {
     "name": "stdout",
     "output_type": "stream",
     "text": [
      "ready 3883\n"
     ]
    }
   ],
   "source": [
    "import numpy as np\n",
    "import timeit\n",
    "import pandas as pd\n",
    "import pickle\n",
    "import itertools\n",
    "\n",
    "def jaccard_sim(list1, list2):\n",
    "    new_list1 = [x for i, x in enumerate(list1) if x != 0 or list2[i] != 0]\n",
    "    new_list2 = [x for i, x in enumerate(list2) if x != 0 or list1[i] != 0]\n",
    "\n",
    "    # Compute the intersection of the two lists, where each 1 or 0 is considered a value\n",
    "    intersection = sum([1 for i in range(len(list1)) if list1[i] == 1 and list2[i] == 1])\n",
    "\n",
    "    # Compute the union of the two lists, where each 1 or 0 is considered a value\n",
    "    union = sum([1 for i in range(len(list1)) if list1[i] == 1 or list2[i] == 1])\n",
    "\n",
    "    # Compute the Jaccard similarity\n",
    "    jaccard_similarity = intersection / union\n",
    "    return jaccard_similarity\n",
    "\n",
    "def jaccard_sim2(nplist1, nplist2):\n",
    "    npnew_list1 = np.array(nplist1, dtype=bool)\n",
    "    npnew_list2 = np.array(nplist2, dtype=bool)\n",
    "\n",
    "    # Compute the intersection of the two lists\n",
    "    npintersection = np.logical_and(npnew_list1, npnew_list2).sum()\n",
    "\n",
    "    # Compute the union of the two lists\n",
    "    npunion = np.logical_or(npnew_list1, npnew_list2).sum()\n",
    "\n",
    "    # Compute the Jaccard similarity\n",
    "    npjaccard_similarity = npintersection / npunion\n",
    "    return npjaccard_similarity\n",
    "\n",
    "# Load movie semantic data\n",
    "u_header = ['item_id', 'title', 'genres']\n",
    "items_df = pd.read_csv('ml-1m/movies.dat', sep='::', names=u_header, encoding='latin', engine='python')\n",
    "items_df = items_df.drop('title', axis = 1)\n",
    "\n",
    "items_dict = items_df.set_index('item_id').T.to_dict('dict')\n",
    "genre_list = ['Action', 'Adventure', 'Animation', 'Children\\'s', 'Comedy', 'Crime', 'Documentary', 'Drama', 'Fantasy', 'Film-Noir', 'Horror', 'Musical', 'Mystery','Romance','Sci-Fi','Thriller','War','Western']\n",
    "\n",
    "itemSemanticMatrix = pd.DataFrame(columns=['item_id1', 'item_id2', 'jaccard_sim_value'])\n",
    "\n",
    "\n",
    "print('ready', len(items_dict.items()))"
   ]
  },
  {
   "cell_type": "code",
   "execution_count": null,
   "id": "e83d83b9-7301-45d6-bac8-e366b6d3d688",
   "metadata": {},
   "outputs": [],
   "source": []
  },
  {
   "cell_type": "code",
   "execution_count": null,
   "id": "b0f14a5a-bf7c-4a95-b7d7-185036d46d56",
   "metadata": {},
   "outputs": [],
   "source": [
    "for item_id1, item_genres1 in items_dict.items():\n",
    "    genre_flags1 = [int(g in item_genres1['genres']) for g in genre_list]\n",
    "    for item_id2, item_genres2 in items_dict.items():\n",
    "        genre_flags2 = [int(g in item_genres2['genres']) for g in genre_list]\n",
    "        jaccard_list = [item_id1, item_id2, jaccard_sim2(genre_flags1, genre_flags2)]\n",
    "        jaccard_df = pd.DataFrame([jaccard_list], columns=['item_id1', 'item_id2', 'jaccard_sim'])\n",
    "        itemSemanticMatrix = pd.concat([itemSemanticMatrix, jaccard_df], ignore_index=True)\n",
    "\n",
    "print('done creating the Semantic Matrix')\n"
   ]
  },
  {
   "cell_type": "code",
   "execution_count": null,
   "id": "ac214807-90bd-4a4e-85d7-fb63bbe4e29b",
   "metadata": {},
   "outputs": [],
   "source": [
    "itemSemanticMatrix = itemSemanticMatrix.set_index(['item_id1', 'item_id2'])\n",
    "\n",
    "print('Calculated Semantic Matrix')\n",
    "\n",
    "print(itemSemanticMatrix.loc[(3, 6), 'jaccard_sim_value'])\n",
    "\n",
    "# Save result to file\n",
    "with open('result.pkl', 'wb') as f:\n",
    "    pickle.dump(result, itemSemanticMatrix)\n",
    "#else:\n",
    "    # Load result from file\n",
    "#    with open('result.pkl', 'rb') as f:\n",
    "#        itemSemanticMatrix = pickle.load(f)"
   ]
  }
 ],
 "metadata": {
  "kernelspec": {
   "display_name": "Python 3 (ipykernel)",
   "language": "python",
   "name": "python3"
  },
  "language_info": {
   "codemirror_mode": {
    "name": "ipython",
    "version": 3
   },
   "file_extension": ".py",
   "mimetype": "text/x-python",
   "name": "python",
   "nbconvert_exporter": "python",
   "pygments_lexer": "ipython3",
   "version": "3.9.13"
  }
 },
 "nbformat": 4,
 "nbformat_minor": 5
}
